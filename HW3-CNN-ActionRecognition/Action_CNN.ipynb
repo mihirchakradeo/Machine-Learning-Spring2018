{
 "cells": [
  {
   "cell_type": "markdown",
   "metadata": {},
   "source": [
    "# Training a ConvNet PyTorch\n",
    "\n",
    "In this notebook, you'll learn how to use the powerful PyTorch framework to specify a conv net architecture and train it on the human action recognition dataset. \n"
   ]
  },
  {
   "cell_type": "code",
   "execution_count": 1,
   "metadata": {},
   "outputs": [],
   "source": [
    "import torch\n",
    "import torch.nn as nn\n",
    "import torch.optim as optim\n",
    "from torch.autograd import Variable\n",
    "from torch.utils.data import DataLoader,sampler,Dataset\n",
    "import torchvision.datasets as dset\n",
    "import torchvision.transforms as T\n",
    "import timeit\n",
    "from PIL import Image\n",
    "import os\n",
    "import numpy as np\n",
    "import scipy.io\n"
   ]
  },
  {
   "cell_type": "markdown",
   "metadata": {},
   "source": [
    "## What's this PyTorch business?\n",
    "\n",
    "* When using a framework like PyTorch or TensorFlow you can harness the power of the GPU for your own custom neural network architectures without having to write CUDA code directly.\n",
    "* this notebook will walk you through much of what you need to do to train models using pytorch. if you want to learn more or need further clarification on topics that aren't fully explained here, here are 2 good Pytorch tutorials. 1): http://pytorch.org/tutorials/beginner/deep_learning_60min_blitz.html 2)http://pytorch.org/tutorials/beginner/pytorch_with_examples.html\n",
    "* It's not necessary to have a GPU for this homework, using a GPU can make your code run faster.\n"
   ]
  },
  {
   "cell_type": "markdown",
   "metadata": {},
   "source": [
    "## Load Datasets\n",
    "\n",
    "In this part, we will load the action recognition dataset for the neural network. In order to load data from our custom dataset, we need to write a custom Dataloader. If you put q3_2_data.mat, /valClips,/trainClips,/testClips under the folder of ./data/ , you do not need to change anything in this part."
   ]
  },
  {
   "cell_type": "markdown",
   "metadata": {},
   "source": [
    "First, load the labels of the dataset, you should write your path of the q3_2_data.mat file."
   ]
  },
  {
   "cell_type": "code",
   "execution_count": 2,
   "metadata": {},
   "outputs": [
    {
     "name": "stdout",
     "output_type": "stream",
     "text": [
      "7770\n",
      "2230\n"
     ]
    }
   ],
   "source": [
    "label_mat=scipy.io.loadmat('./data/q3_2_data.mat')\n",
    "label_train=label_mat['trLb']\n",
    "print(len(label_train))\n",
    "label_val=label_mat['valLb']\n",
    "print(len(label_val))"
   ]
  },
  {
   "cell_type": "markdown",
   "metadata": {},
   "source": [
    "### Dataset class\n",
    "\n",
    "torch.utils.data.Dataset is an abstract class representing a dataset. The custom dataset should inherit Dataset and override the following methods:\n",
    "\n",
    "    __len__ so that len(dataset) returns the size of the dataset.\n",
    "    __getitem__ to support the indexing such that dataset[i] can be used to get ith sample\n",
    "\n",
    "Let’s create a dataset class for our action recognition dataset. We will read images in __getitem__. This is memory efficient because all the images are not stored in the memory at once but read as required.\n",
    "\n",
    "Sample of our dataset will be a dict {'image':image,'img_path':img_path,'Label':Label}. Our datset will take an optional argument transform so that any required processing can be applied on the sample. "
   ]
  },
  {
   "cell_type": "code",
   "execution_count": 3,
   "metadata": {},
   "outputs": [],
   "source": [
    "\n",
    "class ActionDataset(Dataset):\n",
    "    \"\"\"Action dataset.\"\"\"\n",
    "\n",
    "    def __init__(self,  root_dir,labels=[], transform=None):\n",
    "        \"\"\"\n",
    "        Args:\n",
    "            root_dir (string): Directory with all the images.\n",
    "            labels(list): labels if images.\n",
    "            transform (callable, optional): Optional transform to be applied on a sample.\n",
    "        \"\"\"\n",
    "        self.root_dir = root_dir\n",
    "        self.transform = transform\n",
    "        self.length=len(os.listdir(self.root_dir))\n",
    "        self.labels=labels\n",
    "    def __len__(self):\n",
    "        return self.length*3\n",
    "\n",
    "    def __getitem__(self, idx):\n",
    "        \n",
    "        folder=idx/3+1\n",
    "        imidx=idx%3+1\n",
    "        folder = int(folder)\n",
    "        folder=format(folder,'05d')\n",
    "        \n",
    "        imgname=str(imidx)+'.jpg'\n",
    "        img_path = os.path.join(self.root_dir,\n",
    "                                folder,imgname)\n",
    "        image = Image.open(img_path)\n",
    "        if len(self.labels)!=0:\n",
    "            Label=self.labels[int(idx/3)][0]-1\n",
    "        if self.transform:\n",
    "            image = self.transform(image)\n",
    "        if len(self.labels)!=0:\n",
    "            sample={'image':image,'img_path':img_path,'Label':Label}\n",
    "        else:\n",
    "            sample={'image':image,'img_path':img_path}\n",
    "        return sample\n",
    "  "
   ]
  },
  {
   "cell_type": "markdown",
   "metadata": {},
   "source": [
    "Iterating over the dataset by a for loop."
   ]
  },
  {
   "cell_type": "code",
   "execution_count": 4,
   "metadata": {},
   "outputs": [
    {
     "name": "stdout",
     "output_type": "stream",
     "text": [
      "torch.Size([3, 64, 64])\n",
      "0.0\n",
      "./data/trainClips/00001/1.jpg\n",
      "torch.Size([3, 64, 64])\n",
      "0.0\n",
      "./data/trainClips/00001/2.jpg\n",
      "torch.Size([3, 64, 64])\n",
      "0.0\n",
      "./data/trainClips/00001/3.jpg\n",
      "torch.Size([3, 64, 64])\n",
      "0.0\n",
      "./data/trainClips/00002/1.jpg\n",
      "torch.Size([3, 64, 64])\n",
      "0.0\n",
      "./data/trainClips/00002/2.jpg\n",
      "torch.Size([3, 64, 64])\n",
      "0.0\n",
      "./data/trainClips/00002/3.jpg\n",
      "torch.Size([3, 64, 64])\n",
      "0.0\n",
      "./data/trainClips/00003/1.jpg\n",
      "torch.Size([3, 64, 64])\n",
      "0.0\n",
      "./data/trainClips/00003/2.jpg\n",
      "torch.Size([3, 64, 64])\n",
      "0.0\n",
      "./data/trainClips/00003/3.jpg\n",
      "torch.Size([3, 64, 64])\n",
      "0.0\n",
      "./data/trainClips/00004/1.jpg\n"
     ]
    }
   ],
   "source": [
    "image_dataset=ActionDataset(root_dir='./data/trainClips/',\\\n",
    "                            labels=label_train,transform=T.ToTensor())\n",
    "\n",
    "#iterating though the dataset\n",
    "for i in range(10):\n",
    "    sample=image_dataset[i]\n",
    "    print(sample['image'].shape)\n",
    "    print(sample['Label'])\n",
    "    print(sample['img_path'])\n",
    "     \n",
    "   "
   ]
  },
  {
   "cell_type": "markdown",
   "metadata": {},
   "source": [
    "We can iterate over the created dataset with a 'for' loop as before. However, we are losing a lot of features by using a simple for loop to iterate over the data. In particular, we are missing out on:\n",
    "\n",
    "* Batching the data\n",
    "* Shuffling the data\n",
    "* Load the data in parallel using multiprocessing workers.\n",
    "\n",
    "torch.utils.data.DataLoader is an iterator which provides all these features. "
   ]
  },
  {
   "cell_type": "code",
   "execution_count": 5,
   "metadata": {},
   "outputs": [
    {
     "name": "stdout",
     "output_type": "stream",
     "text": [
      "0 torch.Size([4, 3, 64, 64]) ['./data/trainClips/05571/1.jpg', './data/trainClips/03060/3.jpg', './data/trainClips/06254/2.jpg', './data/trainClips/00159/1.jpg'] \n",
      " 6\n",
      " 3\n",
      " 7\n",
      " 0\n",
      "[torch.DoubleTensor of size 4]\n",
      "\n",
      "1 torch.Size([4, 3, 64, 64]) ['./data/trainClips/04265/2.jpg', './data/trainClips/05144/2.jpg', './data/trainClips/02134/3.jpg', './data/trainClips/03774/2.jpg'] \n",
      " 5\n",
      " 6\n",
      " 2\n",
      " 4\n",
      "[torch.DoubleTensor of size 4]\n",
      "\n",
      "2 torch.Size([4, 3, 64, 64]) ['./data/trainClips/03296/3.jpg', './data/trainClips/05521/2.jpg', './data/trainClips/00811/3.jpg', './data/trainClips/02166/2.jpg'] \n",
      " 3\n",
      " 6\n",
      " 0\n",
      " 2\n",
      "[torch.DoubleTensor of size 4]\n",
      "\n",
      "3 torch.Size([4, 3, 64, 64]) ['./data/trainClips/03027/1.jpg', './data/trainClips/06928/3.jpg', './data/trainClips/00378/3.jpg', './data/trainClips/05205/3.jpg'] \n",
      " 3\n",
      " 8\n",
      " 0\n",
      " 6\n",
      "[torch.DoubleTensor of size 4]\n",
      "\n",
      "4 torch.Size([4, 3, 64, 64]) ['./data/trainClips/06140/2.jpg', './data/trainClips/05659/1.jpg', './data/trainClips/00545/2.jpg', './data/trainClips/03807/3.jpg'] \n",
      " 7\n",
      " 7\n",
      " 0\n",
      " 4\n",
      "[torch.DoubleTensor of size 4]\n",
      "\n",
      "5 torch.Size([4, 3, 64, 64]) ['./data/trainClips/04687/2.jpg', './data/trainClips/03561/1.jpg', './data/trainClips/02758/3.jpg', './data/trainClips/05310/3.jpg'] \n",
      " 5\n",
      " 4\n",
      " 3\n",
      " 6\n",
      "[torch.DoubleTensor of size 4]\n",
      "\n",
      "6 torch.Size([4, 3, 64, 64]) ['./data/trainClips/05596/3.jpg', './data/trainClips/00990/3.jpg', './data/trainClips/06335/3.jpg', './data/trainClips/00619/2.jpg'] \n",
      " 6\n",
      " 1\n",
      " 7\n",
      " 0\n",
      "[torch.DoubleTensor of size 4]\n",
      "\n",
      "7 torch.Size([4, 3, 64, 64]) ['./data/trainClips/01979/2.jpg', './data/trainClips/04761/3.jpg', './data/trainClips/01347/3.jpg', './data/trainClips/01213/3.jpg'] \n",
      " 2\n",
      " 5\n",
      " 1\n",
      " 1\n",
      "[torch.DoubleTensor of size 4]\n",
      "\n",
      "8 torch.Size([4, 3, 64, 64]) ['./data/trainClips/05501/3.jpg', './data/trainClips/05835/2.jpg', './data/trainClips/06271/3.jpg', './data/trainClips/04989/1.jpg'] \n",
      " 6\n",
      " 7\n",
      " 7\n",
      " 6\n",
      "[torch.DoubleTensor of size 4]\n",
      "\n",
      "9 torch.Size([4, 3, 64, 64]) ['./data/trainClips/04692/2.jpg', './data/trainClips/06226/1.jpg', './data/trainClips/03345/3.jpg', './data/trainClips/00802/2.jpg'] \n",
      " 5\n",
      " 7\n",
      " 3\n",
      " 0\n",
      "[torch.DoubleTensor of size 4]\n",
      "\n",
      "10 torch.Size([4, 3, 64, 64]) ['./data/trainClips/00132/3.jpg', './data/trainClips/06240/2.jpg', './data/trainClips/06974/1.jpg', './data/trainClips/03946/3.jpg'] \n",
      " 0\n",
      " 7\n",
      " 8\n",
      " 4\n",
      "[torch.DoubleTensor of size 4]\n",
      "\n",
      "11 torch.Size([4, 3, 64, 64]) ['./data/trainClips/05030/3.jpg', './data/trainClips/06855/2.jpg', './data/trainClips/01012/2.jpg', './data/trainClips/07512/2.jpg'] \n",
      " 6\n",
      " 8\n",
      " 1\n",
      " 9\n",
      "[torch.DoubleTensor of size 4]\n",
      "\n",
      "12 torch.Size([4, 3, 64, 64]) ['./data/trainClips/01708/3.jpg', './data/trainClips/03422/2.jpg', './data/trainClips/00901/1.jpg', './data/trainClips/07191/1.jpg'] \n",
      " 1\n",
      " 3\n",
      " 0\n",
      " 9\n",
      "[torch.DoubleTensor of size 4]\n",
      "\n",
      "13 torch.Size([4, 3, 64, 64]) ['./data/trainClips/04112/1.jpg', './data/trainClips/04877/3.jpg', './data/trainClips/00238/3.jpg', './data/trainClips/00951/2.jpg'] \n",
      " 4\n",
      " 5\n",
      " 0\n",
      " 1\n",
      "[torch.DoubleTensor of size 4]\n",
      "\n",
      "14 torch.Size([4, 3, 64, 64]) ['./data/trainClips/07473/2.jpg', './data/trainClips/01190/1.jpg', './data/trainClips/00877/3.jpg', './data/trainClips/03615/1.jpg'] \n",
      " 9\n",
      " 1\n",
      " 0\n",
      " 4\n",
      "[torch.DoubleTensor of size 4]\n",
      "\n",
      "15 torch.Size([4, 3, 64, 64]) ['./data/trainClips/04377/2.jpg', './data/trainClips/00868/2.jpg', './data/trainClips/01401/3.jpg', './data/trainClips/03627/2.jpg'] \n",
      " 5\n",
      " 0\n",
      " 1\n",
      " 4\n",
      "[torch.DoubleTensor of size 4]\n",
      "\n",
      "16 torch.Size([4, 3, 64, 64]) ['./data/trainClips/02427/2.jpg', './data/trainClips/04734/1.jpg', './data/trainClips/06917/1.jpg', './data/trainClips/02733/3.jpg'] \n",
      " 2\n",
      " 5\n",
      " 8\n",
      " 3\n",
      "[torch.DoubleTensor of size 4]\n",
      "\n",
      "17 torch.Size([4, 3, 64, 64]) ['./data/trainClips/03096/3.jpg', './data/trainClips/02882/3.jpg', './data/trainClips/02208/2.jpg', './data/trainClips/00612/3.jpg'] \n",
      " 3\n",
      " 3\n",
      " 2\n",
      " 0\n",
      "[torch.DoubleTensor of size 4]\n",
      "\n",
      "18 torch.Size([4, 3, 64, 64]) ['./data/trainClips/04242/3.jpg', './data/trainClips/06156/2.jpg', './data/trainClips/06037/3.jpg', './data/trainClips/00472/2.jpg'] \n",
      " 5\n",
      " 7\n",
      " 7\n",
      " 0\n",
      "[torch.DoubleTensor of size 4]\n",
      "\n",
      "19 torch.Size([4, 3, 64, 64]) ['./data/trainClips/05110/1.jpg', './data/trainClips/02863/3.jpg', './data/trainClips/07353/3.jpg', './data/trainClips/03347/2.jpg'] \n",
      " 6\n",
      " 3\n",
      " 9\n",
      " 3\n",
      "[torch.DoubleTensor of size 4]\n",
      "\n",
      "20 torch.Size([4, 3, 64, 64]) ['./data/trainClips/06112/2.jpg', './data/trainClips/04993/3.jpg', './data/trainClips/03734/1.jpg', './data/trainClips/06695/1.jpg'] \n",
      " 7\n",
      " 6\n",
      " 4\n",
      " 8\n",
      "[torch.DoubleTensor of size 4]\n",
      "\n",
      "21 torch.Size([4, 3, 64, 64]) ['./data/trainClips/00975/2.jpg', './data/trainClips/01148/2.jpg', './data/trainClips/00884/3.jpg', './data/trainClips/07612/2.jpg'] \n",
      " 1\n",
      " 1\n",
      " 0\n",
      " 9\n",
      "[torch.DoubleTensor of size 4]\n",
      "\n"
     ]
    }
   ],
   "source": [
    "image_dataloader = DataLoader(image_dataset, batch_size=4,\n",
    "                        shuffle=True, num_workers=4)\n",
    "\n",
    "\n",
    "for i,sample in enumerate(image_dataloader):\n",
    "    sample['image']=sample['image'].cuda()\n",
    "    print(i,sample['image'].shape,sample['img_path'],sample['Label'])\n",
    "    if i>20: \n",
    "        break"
   ]
  },
  {
   "cell_type": "markdown",
   "metadata": {},
   "source": [
    "Dataloaders for the training, validationg and testing set. "
   ]
  },
  {
   "cell_type": "code",
   "execution_count": 6,
   "metadata": {},
   "outputs": [],
   "source": [
    "image_dataset_train=ActionDataset(root_dir='./data/trainClips/',labels=label_train,transform=T.ToTensor())\n",
    "\n",
    "image_dataloader_train = DataLoader(image_dataset_train, batch_size=32,\n",
    "                        shuffle=True, num_workers=4)\n",
    "image_dataset_val=ActionDataset(root_dir='./data/valClips/',labels=label_val,transform=T.ToTensor())\n",
    "\n",
    "image_dataloader_val = DataLoader(image_dataset_val, batch_size=32,\n",
    "                        shuffle=False, num_workers=4)\n",
    "image_dataset_test=ActionDataset(root_dir='./data/testClips/',labels=[],transform=T.ToTensor())\n",
    "\n",
    "image_dataloader_test = DataLoader(image_dataset_test, batch_size=32,\n",
    "                        shuffle=False, num_workers=4)"
   ]
  },
  {
   "cell_type": "code",
   "execution_count": 7,
   "metadata": {},
   "outputs": [],
   "source": [
    "dtype = torch.FloatTensor # the CPU datatype\n",
    "# Constant to control how frequently we print train loss\n",
    "print_every = 100\n",
    "# This is a little utility that we'll use to reset the model\n",
    "# if we want to re-initialize all our parameters\n",
    "def reset(m):\n",
    "    if hasattr(m, 'reset_parameters'):\n",
    "        m.reset_parameters()"
   ]
  },
  {
   "cell_type": "markdown",
   "metadata": {},
   "source": [
    "## Example Model\n",
    "\n",
    "### Some assorted tidbits\n",
    "\n",
    "Let's start by looking at a simple model. First, note that PyTorch operates on Tensors, which are n-dimensional arrays functionally analogous to numpy's ndarrays, with the additional feature that they can be used for computations on GPUs.\n",
    "\n",
    "We'll provide you with a Flatten function, which we explain here. Remember that our image data (and more relevantly, our intermediate feature maps) are initially N x C x H x W, where:\n",
    "* N is the number of datapoints\n",
    "* C is the number of image channels. \n",
    "* H is the height of the intermediate feature map in pixels\n",
    "* W is the height of the intermediate feature map in pixels\n",
    "\n",
    "This is the right way to represent the data when we are doing something like a 2D convolution, that needs spatial understanding of where the intermediate features are relative to each other. When we input  data into fully connected affine layers, however, we want each datapoint to be represented by a single vector -- it's no longer useful to segregate the different channels, rows, and columns of the data. So, we use a \"Flatten\" operation to collapse the C x H x W values per representation into a single long vector. The Flatten function below first reads in the N, C, H, and W values from a given batch of data, and then returns a \"view\" of that data. \"View\" is analogous to numpy's \"reshape\" method: it reshapes x's dimensions to be N x ??, where ?? is allowed to be anything (in this case, it will be C x H x W, but we don't need to specify that explicitly). "
   ]
  },
  {
   "cell_type": "code",
   "execution_count": 8,
   "metadata": {},
   "outputs": [],
   "source": [
    "class Flatten(nn.Module):\n",
    "    def forward(self, x):\n",
    "        N, C, H, W = x.size() # read in N, C, H, W\n",
    "        return x.view(N, -1)  # \"flatten\" the C * H * W values into a single vector per image"
   ]
  },
  {
   "cell_type": "markdown",
   "metadata": {},
   "source": [
    "### The example model itself\n",
    "\n",
    "The first step to training your own model is defining its architecture.\n",
    "\n",
    "Here's an example of a convolutional neural network defined in PyTorch -- try to understand what each line is doing, remembering that each layer is composed upon the previous layer. We haven't trained anything yet - that'll come next - for now, we want you to understand how everything gets set up.  nn.Sequential is a container which applies each layer\n",
    "one after the other.\n",
    "\n",
    "In this example, you see 2D convolutional layers (Conv2d), ReLU activations, and fully-connected layers (Linear). You also see the Cross-Entropy loss function, and the Adam optimizer being used. \n",
    "\n",
    "Make sure you understand why the parameters of the Linear layer are 10092 and 10.\n"
   ]
  },
  {
   "cell_type": "code",
   "execution_count": 9,
   "metadata": {},
   "outputs": [],
   "source": [
    "# Here's where we define the architecture of the model... \n",
    "simple_model = nn.Sequential(\n",
    "                nn.Conv2d(3, 32, kernel_size=7, stride=2),\n",
    "                nn.ReLU(inplace=True),\n",
    "                Flatten(), # see above for explanation\n",
    "                nn.Linear(10092, 10), # affine layer\n",
    "              )\n",
    "\n",
    "# Set the type of all data in this model to be FloatTensor \n",
    "simple_model.type(dtype)\n",
    "\n",
    "loss_fn = nn.CrossEntropyLoss().type(dtype)\n",
    "optimizer = optim.Adam(simple_model.parameters(), lr=1e-2) # lr sets the learning rate of the optimizer"
   ]
  },
  {
   "cell_type": "markdown",
   "metadata": {},
   "source": [
    "PyTorch supports many other layer types, loss functions, and optimizers - you will experiment with these next. Here's the official API documentation for these (if any of the parameters used above were unclear, this resource will also be helpful). \n",
    "\n",
    "* Layers: http://pytorch.org/docs/nn.html\n",
    "* Activations: http://pytorch.org/docs/nn.html#non-linear-activations\n",
    "* Loss functions: http://pytorch.org/docs/nn.html#loss-functions\n",
    "* Optimizers: http://pytorch.org/docs/optim.html#algorithms"
   ]
  },
  {
   "cell_type": "markdown",
   "metadata": {},
   "source": [
    "## Training a specific model\n",
    "\n",
    "In this section, we're going to specify a model for you to construct. The goal here isn't to get good performance (that'll be next), but instead to get comfortable with understanding the PyTorch documentation and configuring your own model. \n",
    "\n",
    "Using the code provided above as guidance, and using the following PyTorch documentation, specify a model with the following architecture:\n",
    "\n",
    "* 7x7 Convolutional Layer with 8 filters and stride of 1\n",
    "* ReLU Activation Layer\n",
    "* 2x2 Max Pooling layer with a stride of 2\n",
    "* 7x7 Convolutional Layer with 16 filters and stride of 1\n",
    "* ReLU Activation Layer\n",
    "* 2x2 Max Pooling layer with a stride of 2\n",
    "* Flatten the feature map\n",
    "* ReLU Activation Layer\n",
    "* Affine layer to map input units to 10 outputs, you need to figure out the input size here.\n"
   ]
  },
  {
   "cell_type": "code",
   "execution_count": 10,
   "metadata": {},
   "outputs": [],
   "source": [
    "fixed_model_base = nn.Sequential( \n",
    "    #########1st To Do  (10 points)###################\n",
    "    nn.Conv2d(3, 8, kernel_size=7, stride=1),\n",
    "    nn.ReLU(inplace=True),\n",
    "    nn.MaxPool2d(kernel_size=2, stride=2),\n",
    "    nn.Conv2d(8, 16, kernel_size=7, stride=1),\n",
    "    nn.ReLU(inplace=True),\n",
    "    nn.MaxPool2d(kernel_size=2, stride=2),\n",
    "    Flatten(), # see above for explanatiofn\n",
    "    nn.ReLU(inplace=True),\n",
    "    nn.Linear(1936, 10), # affine layer\n",
    "    ####################################\n",
    "    )\n",
    "fixed_model = fixed_model_base.type(dtype)\n",
    "fixed_model = fixed_model.cuda()\n"
   ]
  },
  {
   "cell_type": "markdown",
   "metadata": {},
   "source": [
    "To make sure you're doing the right thing, use the following tool to check the dimensionality of your output (it should be 32 x 10, since our batches have size 32 and the output of the final affine layer should be 10, corresponding to our 10 classes):"
   ]
  },
  {
   "cell_type": "code",
   "execution_count": 11,
   "metadata": {},
   "outputs": [
    {
     "name": "stdout",
     "output_type": "stream",
     "text": [
      "[32 10]\n"
     ]
    },
    {
     "data": {
      "text/plain": [
       "True"
      ]
     },
     "execution_count": 11,
     "metadata": {},
     "output_type": "execute_result"
    }
   ],
   "source": [
    "## Now we're going to feed a random batch into the model you defined and make sure the output is the right size\n",
    "x = torch.randn(32, 3, 64, 64).type(dtype)\n",
    "x_var = Variable(x.type(dtype)).cuda() # Construct a PyTorch Variable out of your input data\n",
    "ans = fixed_model(x_var)        # Feed it through the model! \n",
    "\n",
    "# Check to make sure what comes out of your model\n",
    "# is the right dimensionality... this should be True\n",
    "# if you've done everything correctly\n",
    "print(np.array(ans.size()))\n",
    "np.array_equal(np.array(ans.size()), np.array([32, 10]))   \n"
   ]
  },
  {
   "cell_type": "markdown",
   "metadata": {},
   "source": [
    "### Train the model.\n",
    "\n",
    "Now that you've seen how to define a model and do a single forward pass of some data through it, let's  walk through how you'd actually train one whole epoch over your training data (using the fixed_model_base we provided above).\n",
    "\n",
    "Make sure you understand how each PyTorch function used below corresponds to what you implemented in your custom neural network implementation.\n",
    "\n",
    "Note that because we are not resetting the weights anywhere below, if you run the cell multiple times, you are effectively training multiple epochs (so your performance should improve).\n",
    "\n",
    "First, set up an RMSprop optimizer (using a 1e-4 learning rate) and a cross-entropy loss function:"
   ]
  },
  {
   "cell_type": "code",
   "execution_count": 12,
   "metadata": {},
   "outputs": [],
   "source": [
    "################ 2nd To Do  (5 points)##################\n",
    "optimizer = optim.RMSprop(fixed_model_base.parameters(), lr=1e-4)\n",
    "loss_fn = nn.CrossEntropyLoss()\n"
   ]
  },
  {
   "cell_type": "code",
   "execution_count": 13,
   "metadata": {},
   "outputs": [
    {
     "name": "stdout",
     "output_type": "stream",
     "text": [
      "t = 100, loss = 1.8228\n",
      "t = 200, loss = 1.7980\n",
      "t = 300, loss = 1.7689\n",
      "t = 400, loss = 1.5807\n",
      "t = 500, loss = 1.4829\n",
      "t = 600, loss = 1.3005\n",
      "t = 700, loss = 1.3691\n"
     ]
    }
   ],
   "source": [
    "# This sets the model in \"training\" mode. \n",
    "# This is relevant for some layers that may have different behavior\n",
    "# in training mode vs testing mode, such as Dropout and BatchNorm. \n",
    "fixed_model.train()\n",
    "\n",
    "# Load one batch at a time.\n",
    "for t, sample in enumerate(image_dataloader_train):\n",
    "    x_var = Variable(sample['image']).cuda()\n",
    "    #print(type(x_var.data))\n",
    "    #print(x_var.shape)\n",
    "    y_var = Variable(sample['Label']).long().cuda()\n",
    "\n",
    "    # This is the forward pass: predict the scores for each class, for each x in the batch.\n",
    "    scores = fixed_model(x_var)\n",
    "    \n",
    "    # Use the correct y values and the predicted y values to compute the loss.\n",
    "    loss = loss_fn(scores, y_var)\n",
    "    \n",
    "    if (t + 1) % print_every == 0:\n",
    "        print('t = %d, loss = %.4f' % (t + 1, loss.data[0]))\n",
    "\n",
    "    # Zero out all of the gradients for the variables which the optimizer will update.\n",
    "    optimizer.zero_grad()\n",
    "    \n",
    "    # This is the backwards pass: compute the gradient of the loss with respect to each \n",
    "    # parameter of the model.\n",
    "    loss.backward()\n",
    "    \n",
    "    # Actually update the parameters of the model using the gradients computed by the backwards pass.\n",
    "    optimizer.step()\n",
    "   "
   ]
  },
  {
   "cell_type": "markdown",
   "metadata": {},
   "source": [
    "Now you've seen how the training process works in PyTorch. To save you writing boilerplate code, we're providing the following helper functions to help you train for multiple epochs and check the accuracy of your model:"
   ]
  },
  {
   "cell_type": "code",
   "execution_count": 14,
   "metadata": {},
   "outputs": [],
   "source": [
    "def train(model, loss_fn, optimizer, dataloader, num_epochs = 1):\n",
    "    for epoch in range(num_epochs):\n",
    "        print('Starting epoch %d / %d' % (epoch + 1, num_epochs))\n",
    "        model.train()\n",
    "        for t, sample in enumerate(dataloader):\n",
    "            x_var = Variable(sample['image']).cuda()\n",
    "            y_var = Variable(sample['Label'].long()).cuda()\n",
    "\n",
    "            scores = model(x_var)\n",
    "            \n",
    "            loss = loss_fn(scores, y_var)\n",
    "            if (t + 1) % print_every == 0:\n",
    "                print('t = %d, loss = %.4f' % (t + 1, loss.data[0]))\n",
    "\n",
    "            optimizer.zero_grad()\n",
    "            loss.backward()\n",
    "            optimizer.step()\n",
    "\n",
    "def check_accuracy(model, loader):\n",
    "    '''\n",
    "    if loader.dataset.train:\n",
    "        print('Checking accuracy on validation set')\n",
    "    else:\n",
    "        print('Checking accuracy on test set')  \n",
    "    '''\n",
    "    num_correct = 0\n",
    "    num_samples = 0\n",
    "    model.eval() # Put the model in test mode (the opposite of model.train(), essentially)\n",
    "    for t, sample in enumerate(loader):\n",
    "        x_var = Variable(sample['image']).cuda()\n",
    "        y_var = sample['Label']\n",
    "        scores = model(x_var)\n",
    "        y_var=y_var.cpu()\n",
    "        _, preds = scores.data.max(1)#scores.data.cpu().max(1)\n",
    "        #print(preds)\n",
    "        #print(y_var)\n",
    "        preds = preds.cpu()\n",
    "        y_var=y_var.cpu()\n",
    "        num_correct += (preds.numpy() == y_var.numpy()).sum()\n",
    "        num_samples += preds.size(0)\n",
    "#     y_var=y_var.cpu()\n",
    "    acc = float(num_correct) / num_samples\n",
    "    print('Got %d / %d correct (%.2f)' % (num_correct, num_samples, 100 * acc))\n",
    "    \n",
    "    \n",
    "\n"
   ]
  },
  {
   "cell_type": "markdown",
   "metadata": {},
   "source": [
    "### Check the accuracy of the model.\n",
    "\n",
    "Let's see the train and check_accuracy code in action -- feel free to use these methods when evaluating the models you develop below.\n",
    "\n",
    "You should get a training loss of around 1.0-1.2, and a validation accuracy of around 50-60%. As mentioned above, if you re-run the cells, you'll be training more epochs, so your performance will improve past these numbers.\n",
    "\n",
    "But don't worry about getting these numbers better -- this was just practice before you tackle designing your own model."
   ]
  },
  {
   "cell_type": "code",
   "execution_count": 15,
   "metadata": {},
   "outputs": [
    {
     "name": "stdout",
     "output_type": "stream",
     "text": [
      "Starting epoch 1 / 5\n",
      "t = 100, loss = 2.2323\n",
      "t = 200, loss = 2.1437\n",
      "t = 300, loss = 1.7899\n",
      "t = 400, loss = 1.7177\n",
      "t = 500, loss = 1.6700\n",
      "t = 600, loss = 1.3837\n",
      "t = 700, loss = 1.2119\n",
      "Starting epoch 2 / 5\n",
      "t = 100, loss = 1.3968\n",
      "t = 200, loss = 1.3100\n",
      "t = 300, loss = 1.2680\n",
      "t = 400, loss = 1.2891\n",
      "t = 500, loss = 0.8881\n",
      "t = 600, loss = 0.7787\n",
      "t = 700, loss = 1.3149\n",
      "Starting epoch 3 / 5\n",
      "t = 100, loss = 0.8357\n",
      "t = 200, loss = 0.7589\n",
      "t = 300, loss = 0.8152\n",
      "t = 400, loss = 0.6862\n",
      "t = 500, loss = 0.5893\n",
      "t = 600, loss = 0.5960\n",
      "t = 700, loss = 0.7713\n",
      "Starting epoch 4 / 5\n",
      "t = 100, loss = 0.8090\n",
      "t = 200, loss = 0.6732\n",
      "t = 300, loss = 0.5251\n",
      "t = 400, loss = 0.3244\n",
      "t = 500, loss = 0.6170\n",
      "t = 600, loss = 0.5740\n",
      "t = 700, loss = 0.8652\n",
      "Starting epoch 5 / 5\n",
      "t = 100, loss = 0.4717\n",
      "t = 200, loss = 0.4895\n",
      "t = 300, loss = 0.3519\n",
      "t = 400, loss = 0.4562\n",
      "t = 500, loss = 0.5509\n",
      "t = 600, loss = 0.3944\n",
      "t = 700, loss = 0.3992\n",
      "Got 19835 / 23310 correct (85.09)\n"
     ]
    }
   ],
   "source": [
    "torch.random.manual_seed(12345)\n",
    "# fixed_model.cpu()\n",
    "fixed_model.apply(reset) \n",
    "fixed_model.train() \n",
    "train(fixed_model, loss_fn, optimizer,image_dataloader_train, num_epochs=5) \n",
    "check_accuracy(fixed_model, image_dataloader_train)# check accuracy on the training set\n"
   ]
  },
  {
   "cell_type": "markdown",
   "metadata": {},
   "source": [
    "### Don't forget the validation set!\n",
    "\n",
    "And note that you can use the check_accuracy function to evaluate on the validation set, by passing **image_dataloader_val** as the second argument to check_accuracy. The accuracy on validation set is arround 40-50%."
   ]
  },
  {
   "cell_type": "code",
   "execution_count": 16,
   "metadata": {},
   "outputs": [
    {
     "name": "stdout",
     "output_type": "stream",
     "text": [
      "Got 3539 / 6690 correct (52.90)\n"
     ]
    }
   ],
   "source": [
    "check_accuracy(fixed_model, image_dataloader_val)#check accuracy on the validation set"
   ]
  },
  {
   "cell_type": "markdown",
   "metadata": {},
   "source": [
    "##### Train a better  model for action recognition!\n",
    "\n",
    "Now it's your job to experiment with architectures, hyperparameters, loss functions, and optimizers to train a model that achieves better accuracy on the action recognition **validation** set. You can use the check_accuracy and train functions from above."
   ]
  },
  {
   "cell_type": "markdown",
   "metadata": {},
   "source": [
    "### Things you should try:\n",
    "- **Filter size**: Above we used 7x7; this makes pretty pictures but smaller filters may be more efficient\n",
    "- **Number of filters**: Do more or fewer do better?\n",
    "- **Pooling vs Strided Convolution**: Do you use max pooling or just stride convolutions?\n",
    "- **Batch normalization**: Try adding spatial batch normalization after convolution layers and vanilla batch normalization after affine layers. Do your networks train faster?\n",
    "- **Network architecture**: The network above has two layers of trainable parameters. Can you do better with a deep network? Good architectures to try include:\n",
    "    - [conv-relu-pool]xN -> [affine]xM -> [softmax or SVM]\n",
    "    - [conv-relu-conv-relu-pool]xN -> [affine]xM -> [softmax or SVM]\n",
    "    - [batchnorm-relu-conv]xN -> [affine]xM -> [softmax or SVM]\n",
    "- **Global Average Pooling**: Instead of flattening and then having multiple affine layers, perform convolutions until your image gets small (7x7 or so) and then perform an average pooling operation to get to a 1x1 image picture (1, 1 , Filter#), which is then reshaped into a (Filter#) vector. This is used in [Google's Inception Network](https://arxiv.org/abs/1512.00567) (See Table 1 for their architecture).\n",
    "- **Regularization**: Add l2 weight regularization, or perhaps use Dropout.\n",
    "\n",
    "### Tips for training\n",
    "For each network architecture that you try, you should tune the learning rate and regularization strength. When doing this there are a couple important things to keep in mind:\n",
    "\n",
    "- If the parameters are working well, you should see improvement within a few hundred iterations\n",
    "- Remember the coarse-to-fine approach for hyperparameter tuning: start by testing a large range of hyperparameters for just a few training iterations to find the combinations of parameters that are working at all.\n",
    "- Once you have found some sets of parameters that seem to work, search more finely around these parameters. You may need to train for more epochs.\n",
    "- You should use the validation set for hyperparameter search, and save your test set for evaluating your architecture on the best parameters as selected by the validation set.\n",
    "\n",
    "### Going above and beyond\n",
    "If you are feeling adventurous there are many other features you can implement to try and improve your performance. You are **not required** to implement any of these; however they would be good things to try.\n",
    "\n",
    "- Alternative update steps: For the assignment we implemented SGD+momentum, RMSprop, and Adam; you could try alternatives like AdaGrad or AdaDelta.\n",
    "- Alternative activation functions such as leaky ReLU, parametric ReLU, ELU, or MaxOut.\n",
    "- Model ensembles\n",
    "- Data augmentation\n",
    "- New Architectures\n",
    "  - [ResNets](https://arxiv.org/abs/1512.03385) where the input from the previous layer is added to the output.\n",
    "  - [DenseNets](https://arxiv.org/abs/1608.06993) where inputs into previous layers are concatenated together.\n",
    "  - [This blog has an in-depth overview](https://chatbotslife.com/resnets-highwaynets-and-densenets-oh-my-9bb15918ee32)\n",
    "\n",
    "If you do decide to implement something extra, clearly describe it in the \"Extra Credit Description\" cell below.\n",
    "\n",
    "### What we expect\n",
    "At the very least, you should be able to train a ConvNet that gets at least 55% accuracy on the validation set. This is just a lower bound - if you are careful it should be possible to get accuracies much higher than that! Extra credit points will be awarded for particularly high-scoring models or unique approaches.\n",
    "\n",
    "You should use the space below to experiment and train your network. \n",
    "\n"
   ]
  },
  {
   "cell_type": "code",
   "execution_count": 17,
   "metadata": {},
   "outputs": [
    {
     "name": "stdout",
     "output_type": "stream",
     "text": [
      "Starting epoch 1 / 10\n",
      "t = 100, loss = 0.5821\n",
      "t = 200, loss = 0.6408\n",
      "t = 300, loss = 0.4928\n",
      "t = 400, loss = 0.5139\n",
      "t = 500, loss = 0.2888\n",
      "t = 600, loss = 0.7220\n",
      "t = 700, loss = 0.3304\n",
      "Starting epoch 2 / 10\n",
      "t = 100, loss = 0.4616\n",
      "t = 200, loss = 0.6672\n",
      "t = 300, loss = 0.4131\n",
      "t = 400, loss = 0.4303\n",
      "t = 500, loss = 0.4448\n",
      "t = 600, loss = 0.1903\n",
      "t = 700, loss = 0.2739\n",
      "Starting epoch 3 / 10\n",
      "t = 100, loss = 0.2287\n",
      "t = 200, loss = 0.3276\n",
      "t = 300, loss = 0.2743\n",
      "t = 400, loss = 0.5678\n",
      "t = 500, loss = 0.2609\n",
      "t = 600, loss = 0.2605\n",
      "t = 700, loss = 0.2144\n",
      "Starting epoch 4 / 10\n",
      "t = 100, loss = 0.2837\n",
      "t = 200, loss = 0.1910\n",
      "t = 300, loss = 0.2030\n",
      "t = 400, loss = 0.1438\n",
      "t = 500, loss = 0.2707\n",
      "t = 600, loss = 0.1373\n",
      "t = 700, loss = 0.2113\n",
      "Starting epoch 5 / 10\n",
      "t = 100, loss = 0.2774\n",
      "t = 200, loss = 0.1830\n",
      "t = 300, loss = 0.2819\n",
      "t = 400, loss = 0.1720\n",
      "t = 500, loss = 0.4199\n",
      "t = 600, loss = 0.0932\n",
      "t = 700, loss = 0.2310\n",
      "Starting epoch 6 / 10\n",
      "t = 100, loss = 0.3639\n",
      "t = 200, loss = 0.1214\n",
      "t = 300, loss = 0.2372\n",
      "t = 400, loss = 0.2410\n",
      "t = 500, loss = 0.2050\n",
      "t = 600, loss = 0.0688\n",
      "t = 700, loss = 0.2214\n",
      "Starting epoch 7 / 10\n",
      "t = 100, loss = 0.1598\n",
      "t = 200, loss = 0.2384\n",
      "t = 300, loss = 0.1217\n",
      "t = 400, loss = 0.3719\n",
      "t = 500, loss = 0.1817\n",
      "t = 600, loss = 0.1059\n",
      "t = 700, loss = 0.2027\n",
      "Starting epoch 8 / 10\n",
      "t = 100, loss = 0.2708\n",
      "t = 200, loss = 0.0717\n",
      "t = 300, loss = 0.0754\n",
      "t = 400, loss = 0.1933\n",
      "t = 500, loss = 0.2308\n",
      "t = 600, loss = 0.1099\n",
      "t = 700, loss = 0.1044\n",
      "Starting epoch 9 / 10\n",
      "t = 100, loss = 0.0599\n",
      "t = 200, loss = 0.0824\n",
      "t = 300, loss = 0.1318\n",
      "t = 400, loss = 0.1693\n",
      "t = 500, loss = 0.1586\n",
      "t = 600, loss = 0.3106\n",
      "t = 700, loss = 0.1577\n",
      "Starting epoch 10 / 10\n",
      "t = 100, loss = 0.1201\n",
      "t = 200, loss = 0.1284\n",
      "t = 300, loss = 0.0610\n",
      "t = 400, loss = 0.1702\n",
      "t = 500, loss = 0.1367\n",
      "t = 600, loss = 0.4780\n",
      "t = 700, loss = 0.1244\n",
      "Got 3757 / 6690 correct (56.16)\n"
     ]
    }
   ],
   "source": [
    "###########3rd To Do (16 points, must submit the results to Kaggle) ##############\n",
    "# Train your model here, and make sure the output of this cell is the accuracy of your best model on the \n",
    "# train, val, and test sets. Here's some code to get you started. The output of this cell should be the training\n",
    "# and validation accuracy on your best model (measured by validation accuracy).\n",
    "\n",
    "model = nn.Sequential( \n",
    "    nn.Conv2d(3, 64, kernel_size=3, stride=1),\n",
    "    nn.ReLU(inplace=True),\n",
    "    nn.Conv2d(3, 62, kernel_size=3, stride=1),\n",
    "    nn.ReLU(inplace=True),\n",
    "    nn.MaxPool2d(kernel_size=2, stride=2),\n",
    "    \n",
    "    nn.Conv2d(3, 128, kernel_size=3, stride=1),\n",
    "    nn.ReLU(inplace=True),\n",
    "    nn.Conv2d(3, 128, kernel_size=3, stride=1),\n",
    "    nn.ReLU(inplace=True),\n",
    "    nn.MaxPool2d(kernel_size=2, stride=2),\n",
    "    \n",
    "    nn.Conv2d(3, 256, kernel_size=3, stride=1),\n",
    "    nn.ReLU(inplace=True),\n",
    "    nn.Conv2d(3, 256, kernel_size=3, stride=1),\n",
    "    nn.ReLU(inplace=True),\n",
    "    nn.Conv2d(3, 256, kernel_size=3, stride=1),\n",
    "    nn.ReLU(inplace=True),\n",
    "    nn.Conv2d(3, 256, kernel_size=3, stride=1),\n",
    "    nn.ReLU(inplace=True),\n",
    "    nn.MaxPool2d(kernel_size=2, stride=2),\n",
    "    \n",
    "    nn.Conv2d(3, 512, kernel_size=3, stride=1),\n",
    "    nn.ReLU(inplace=True),\n",
    "    nn.Conv2d(3, 512, kernel_size=3, stride=1),\n",
    "    nn.ReLU(inplace=True),\n",
    "    nn.Conv2d(3, 512, kernel_size=3, stride=1),\n",
    "    nn.ReLU(inplace=True),\n",
    "    nn.Conv2d(3, 512, kernel_size=3, stride=1),\n",
    "    nn.ReLU(inplace=True),\n",
    "    nn.MaxPool2d(kernel_size=2, stride=2),\n",
    "    \n",
    "    Flatten(), # see above for explanation\n",
    "    nn.ReLU(inplace=True),\n",
    "    nn.Linear(7, 10), # affine layer\n",
    "    nn.Linear(10, 10), # affine layer\n",
    "    nn.Linear(10, 10), # affine layer\n",
    "    ####################################\n",
    "    )\n",
    "\n",
    "fixed_model = fixed_model_base.type(dtype)\n",
    "fixed_model = fixed_model.cuda()\n",
    "loss_fn = nn.CrossEntropyLoss()\n",
    "optimizer = optim.RMSprop(fixed_model_base.parameters(), lr=1e-4)\n",
    "train(fixed_model_base, loss_fn, optimizer,image_dataloader_train, num_epochs=10) \n",
    "check_accuracy(fixed_model, image_dataloader_val)"
   ]
  },
  {
   "cell_type": "markdown",
   "metadata": {},
   "source": [
    "### Describe what you did \n",
    "\n",
    "In the cell below you should write an explanation of what you did, any additional features that you implemented, and any visualizations or graphs that you make in the process of training and evaluating your network."
   ]
  },
  {
   "cell_type": "markdown",
   "metadata": {},
   "source": [
    "Tell us here!\n",
    "###########4th To Do (4 points) ############## <br/>\n",
    "\n",
    "I tried the VGG-19 from ResNet paper: https://arxiv.org/pdf/1512.03385.pdf.\n",
    "The convolutional layers have a kernel_size of 3 throughout. After successive conv, activations, there are maxpool layers, with a kernel size of 2, which reduce the size of output by 2. After every Maxpooling layer, the number of filters is doubled. At the end I have used three fully connected layers "
   ]
  },
  {
   "cell_type": "markdown",
   "metadata": {},
   "source": [
    "### Testing the model and submit on Kaggle\n",
    "Testing the model on the testing set and save the results as a .csv file. \n",
    "Please submitted the results.csv file generated by predict_on_test() to Kaggle(https://www.kaggle.com/c/cse512springhw3) to see how well your network performs on the test set. \n",
    "#######5th To Do (submit the result to Kaggle,the highest 3 entries get extra 10 points )###############"
   ]
  },
  {
   "cell_type": "code",
   "execution_count": 18,
   "metadata": {},
   "outputs": [
    {
     "name": "stdout",
     "output_type": "stream",
     "text": [
      "9810\n"
     ]
    }
   ],
   "source": [
    "def predict_on_test(model, loader):\n",
    "    '''\n",
    "    if loader.dataset.train:\n",
    "        print('Checking accuracy on validation set')\n",
    "    else:\n",
    "        print('Checking accuracy on test set')  \n",
    "    '''\n",
    "    num_correct = 0\n",
    "    num_samples = 0\n",
    "    model.eval() # Put the model in test mode (the opposite of model.train(), essentially)\n",
    "    results=open('results.csv','w')\n",
    "    count=0\n",
    "    results.write('Id'+','+'Class'+'\\n')\n",
    "    for t, sample in enumerate(loader):\n",
    "        x_var = Variable(sample['image']).cuda()\n",
    "        scores = model(x_var)\n",
    "        _, preds = scores.data.max(1)\n",
    "        for i in range(len(preds)):\n",
    "            results.write(str(count)+','+str(preds[i])+'\\n')\n",
    "            count+=1\n",
    "    results.close()\n",
    "    return count\n",
    "    \n",
    "count=predict_on_test(fixed_model, image_dataloader_test)\n",
    "print(count)"
   ]
  },
  {
   "cell_type": "markdown",
   "metadata": {},
   "source": [
    "### GPU! (This part is optional, 0 points)\n",
    "\n",
    "If you have access to GPU, you can make the code run on GPU, it would be much faster. \n",
    "\n",
    "Now, we're going to switch the dtype of the model and our data to the GPU-friendly tensors, and see what happens... everything is the same, except we are casting our model and input tensors as this new dtype instead of the old one.\n",
    "\n",
    "If this returns false, or otherwise fails in a not-graceful way (i.e., with some error message), you may not have an NVIDIA GPU available on your machine. "
   ]
  },
  {
   "cell_type": "code",
   "execution_count": 19,
   "metadata": {},
   "outputs": [
    {
     "data": {
      "text/plain": [
       "True"
      ]
     },
     "execution_count": 19,
     "metadata": {},
     "output_type": "execute_result"
    }
   ],
   "source": [
    "# Verify that CUDA is properly configured and you have a GPU available\n",
    "\n",
    "torch.cuda.is_available()"
   ]
  },
  {
   "cell_type": "code",
   "execution_count": 20,
   "metadata": {},
   "outputs": [
    {
     "data": {
      "text/plain": [
       "True"
      ]
     },
     "execution_count": 20,
     "metadata": {},
     "output_type": "execute_result"
    }
   ],
   "source": [
    "import copy\n",
    "gpu_dtype = torch.cuda.FloatTensor\n",
    "\n",
    "fixed_model_gpu = copy.deepcopy(fixed_model_base)#.type(gpu_dtype)\n",
    "fixed_model_gpu.cuda()\n",
    "x_gpu = torch.randn(4, 3, 64, 64).cuda()#.type(gpu_dtype)\n",
    "x_var_gpu = Variable(x_gpu)#type(gpu_dtype)) # Construct a PyTorch Variable out of your input data\n",
    "ans = fixed_model_gpu(x_var_gpu)        # Feed it through the model! \n",
    "\n",
    "# Check to make sure what comes out of your model\n",
    "# is the right dimensionality... this should be True\n",
    "# if you've done everything correctly\n",
    "np.array_equal(np.array(ans.size()), np.array([4, 10]))\n"
   ]
  },
  {
   "cell_type": "markdown",
   "metadata": {},
   "source": [
    "Run the following cell to evaluate the performance of the forward pass running on the CPU:"
   ]
  },
  {
   "cell_type": "code",
   "execution_count": 21,
   "metadata": {},
   "outputs": [
    {
     "name": "stdout",
     "output_type": "stream",
     "text": [
      "722 µs ± 704 ns per loop (mean ± std. dev. of 7 runs, 1000 loops each)\n"
     ]
    }
   ],
   "source": [
    "%%timeit \n",
    "ans = fixed_model(x_var)"
   ]
  },
  {
   "cell_type": "markdown",
   "metadata": {},
   "source": [
    "... and now the GPU:"
   ]
  },
  {
   "cell_type": "code",
   "execution_count": 22,
   "metadata": {},
   "outputs": [
    {
     "name": "stdout",
     "output_type": "stream",
     "text": [
      "281 µs ± 1.02 µs per loop (mean ± std. dev. of 7 runs, 1000 loops each)\n"
     ]
    }
   ],
   "source": [
    "%%timeit \n",
    "torch.cuda.synchronize() # Make sure there are no pending GPU computations\n",
    "ans = fixed_model_gpu(x_var_gpu)        # Feed it through the model! \n",
    "torch.cuda.synchronize() # Make sure there are no pending GPU computations"
   ]
  },
  {
   "cell_type": "markdown",
   "metadata": {},
   "source": [
    "You should observe that even a simple forward pass like this is significantly faster on the GPU. So for the rest of the assignment (and when you go train your models in assignment 3 and your project!), you should use the GPU datatype for your model and your tensors: as a reminder that is *torch.cuda.FloatTensor* (in our notebook here as *gpu_dtype*)"
   ]
  },
  {
   "cell_type": "markdown",
   "metadata": {},
   "source": [
    "Let's make the loss function and training variables to GPU friendly format by '.cuda()'"
   ]
  },
  {
   "cell_type": "code",
   "execution_count": 23,
   "metadata": {},
   "outputs": [],
   "source": [
    "loss_fn = nn.CrossEntropyLoss().cuda()\n",
    "optimizer = optim.RMSprop(fixed_model_gpu.parameters(), lr=1e-4)"
   ]
  },
  {
   "cell_type": "code",
   "execution_count": 24,
   "metadata": {},
   "outputs": [],
   "source": [
    "def train(model, loss_fn, optimizer, dataloader, num_epochs = 1):\n",
    "    for epoch in range(num_epochs):\n",
    "        print('Starting epoch %d / %d' % (epoch + 1, num_epochs))\n",
    "        model.train()\n",
    "        for t, sample in enumerate(dataloader):\n",
    "            x_var = Variable(sample['image'].cuda())\n",
    "            y_var = Variable(sample['Label'].cuda().long())\n",
    "\n",
    "            scores = model(x_var)\n",
    "            \n",
    "            loss = loss_fn(scores, y_var)\n",
    "            if (t + 1) % print_every == 0:\n",
    "                print('t = %d, loss = %.4f' % (t + 1, loss.data[0]))\n",
    "\n",
    "            optimizer.zero_grad()\n",
    "            loss.backward()\n",
    "            optimizer.step()\n",
    "\n",
    "def check_accuracy(model, loader):\n",
    "    '''\n",
    "    if loader.dataset.train:\n",
    "        print('Checking accuracy on validation set')\n",
    "    else:\n",
    "        print('Checking accuracy on test set')  \n",
    "    '''\n",
    "    num_correct = 0\n",
    "    num_samples = 0\n",
    "    model.eval() # Put the model in test mode (the opposite of model.train(), essentially)\n",
    "    for t, sample in enumerate(loader):\n",
    "        x_var = Variable(sample['image'].cuda())\n",
    "        y_var = sample['Label'].cuda()\n",
    "        y_var=y_var.cpu()\n",
    "        scores = model(x_var)\n",
    "        _, preds = scores.data.cpu().max(1)\n",
    "        #print(preds)\n",
    "        #print(y_var)\n",
    "        num_correct += (preds.numpy() == y_var.numpy()).sum()\n",
    "        num_samples += preds.size(0)\n",
    "    acc = float(num_correct) / num_samples\n",
    "    print('Got %d / %d correct (%.2f)' % (num_correct, num_samples, 100 * acc))"
   ]
  },
  {
   "cell_type": "markdown",
   "metadata": {},
   "source": [
    "Run on GPU!"
   ]
  },
  {
   "cell_type": "code",
   "execution_count": 25,
   "metadata": {},
   "outputs": [
    {
     "name": "stdout",
     "output_type": "stream",
     "text": [
      "Starting epoch 1 / 1\n",
      "t = 100, loss = 1.8030\n",
      "t = 200, loss = 1.5029\n",
      "t = 300, loss = 1.4029\n",
      "t = 400, loss = 1.1209\n",
      "t = 500, loss = 1.2827\n",
      "t = 600, loss = 1.0639\n",
      "t = 700, loss = 0.9461\n",
      "Got 14924 / 23310 correct (64.02)\n"
     ]
    }
   ],
   "source": [
    "torch.cuda.random.manual_seed(12345)\n",
    "\n",
    "fixed_model_gpu.apply(reset) \n",
    "fixed_model_gpu.train() \n",
    "train(fixed_model_gpu, loss_fn, optimizer,image_dataloader_train, num_epochs=1) \n",
    "check_accuracy(fixed_model_gpu, image_dataloader_train)# check accuracy on the training set\n"
   ]
  },
  {
   "cell_type": "markdown",
   "metadata": {},
   "source": [
    "### 3D Convolution on video clips (25 points+10 extra points)\n",
    "3D convolution is for videos, it has one more dimension than 2d convolution. You can find the document for 3D convolution here http://pytorch.org/docs/master/nn.html#torch.nn.Conv3dIn. In our dataset, each clip is a video of 3 frames. Lets classify the each clip rather than each image using 3D convolution.\n",
    "We offer the data loader, the train_3d and check_accuracy"
   ]
  },
  {
   "cell_type": "code",
   "execution_count": 26,
   "metadata": {},
   "outputs": [
    {
     "name": "stdout",
     "output_type": "stream",
     "text": [
      "torch.Size([3, 3, 64, 64])\n",
      "0.0\n",
      "00001\n",
      "torch.Size([3, 3, 64, 64])\n",
      "0.0\n",
      "00002\n",
      "torch.Size([3, 3, 64, 64])\n",
      "0.0\n",
      "00003\n",
      "torch.Size([3, 3, 64, 64])\n",
      "0.0\n",
      "00004\n",
      "torch.Size([3, 3, 64, 64])\n",
      "0.0\n",
      "00005\n",
      "torch.Size([3, 3, 64, 64])\n",
      "0.0\n",
      "00006\n",
      "torch.Size([3, 3, 64, 64])\n",
      "0.0\n",
      "00007\n",
      "torch.Size([3, 3, 64, 64])\n",
      "0.0\n",
      "00008\n",
      "torch.Size([3, 3, 64, 64])\n",
      "0.0\n",
      "00009\n",
      "torch.Size([3, 3, 64, 64])\n",
      "0.0\n",
      "00010\n"
     ]
    }
   ],
   "source": [
    "class ActionClipDataset(Dataset):\n",
    "    \"\"\"Action Landmarks dataset.\"\"\"\n",
    "\n",
    "    def __init__(self,  root_dir,labels=[], transform=None):\n",
    "        \"\"\"\n",
    "        Args:\n",
    "            csv_file (string): Path to the csv file with annotations.\n",
    "            root_dir (string): Directory with all the images.\n",
    "            transform (callable, optional): Optional transform to be applied\n",
    "                on a sample.\n",
    "        \"\"\"\n",
    "        \n",
    "        self.root_dir = root_dir\n",
    "        self.transform = transform\n",
    "        self.length=len(os.listdir(self.root_dir))\n",
    "        self.labels=labels\n",
    "\n",
    "    def __len__(self):\n",
    "        return self.length\n",
    "\n",
    "    def __getitem__(self, idx):\n",
    "        \n",
    "        folder=idx+1\n",
    "        folder=format(folder,'05d')\n",
    "        clip=[]\n",
    "        if len(self.labels)!=0:\n",
    "            Label=self.labels[idx][0]-1\n",
    "        for i in range(3):\n",
    "            imidx=i+1\n",
    "            imgname=str(imidx)+'.jpg'\n",
    "            img_path = os.path.join(self.root_dir,\n",
    "                                    folder,imgname)\n",
    "            image = Image.open(img_path)\n",
    "            image=np.array(image)\n",
    "            clip.append(image)\n",
    "        if self.transform:\n",
    "            clip=np.asarray(clip)\n",
    "            clip=np.transpose(clip, (0,3,1,2))\n",
    "            clip = torch.from_numpy(np.asarray(clip))\n",
    "        if len(self.labels)!=0:\n",
    "            sample={'clip':clip,'Label':Label,'folder':folder}\n",
    "        else:\n",
    "            sample={'clip':clip,'folder':folder}\n",
    "        return sample\n",
    "\n",
    "clip_dataset=ActionClipDataset(root_dir='./data/trainClips/',\\\n",
    "                               labels=label_train,transform=T.ToTensor())#/home/tqvinh/Study/CSE512/cse512-s18/hw2data/trainClips/\n",
    "for i in range(10):\n",
    "    sample=clip_dataset[i]\n",
    "    print(sample['clip'].shape)\n",
    "    print(sample['Label'])\n",
    "    print(sample['folder'])"
   ]
  },
  {
   "cell_type": "code",
   "execution_count": 27,
   "metadata": {},
   "outputs": [
    {
     "name": "stdout",
     "output_type": "stream",
     "text": [
      "0 torch.Size([4, 3, 3, 64, 64]) ['06022', '05268', '00255', '04873'] \n",
      " 7\n",
      " 6\n",
      " 0\n",
      " 5\n",
      "[torch.DoubleTensor of size 4]\n",
      "\n",
      "1 torch.Size([4, 3, 3, 64, 64]) ['02839', '07351', '06344', '02079'] \n",
      " 3\n",
      " 9\n",
      " 7\n",
      " 2\n",
      "[torch.DoubleTensor of size 4]\n",
      "\n",
      "2 torch.Size([4, 3, 3, 64, 64]) ['01639', '03745', '01607', '03902'] \n",
      " 1\n",
      " 4\n",
      " 1\n",
      " 4\n",
      "[torch.DoubleTensor of size 4]\n",
      "\n",
      "3 torch.Size([4, 3, 3, 64, 64]) ['00192', '02320', '01268', '06225'] \n",
      " 0\n",
      " 2\n",
      " 1\n",
      " 7\n",
      "[torch.DoubleTensor of size 4]\n",
      "\n",
      "4 torch.Size([4, 3, 3, 64, 64]) ['05605', '02751', '05921', '06391'] \n",
      " 6\n",
      " 3\n",
      " 7\n",
      " 7\n",
      "[torch.DoubleTensor of size 4]\n",
      "\n",
      "5 torch.Size([4, 3, 3, 64, 64]) ['02794', '01617', '04111', '02448'] \n",
      " 3\n",
      " 1\n",
      " 4\n",
      " 2\n",
      "[torch.DoubleTensor of size 4]\n",
      "\n",
      "6 torch.Size([4, 3, 3, 64, 64]) ['06879', '02780', '03076', '01699'] \n",
      " 8\n",
      " 3\n",
      " 3\n",
      " 1\n",
      "[torch.DoubleTensor of size 4]\n",
      "\n",
      "7 torch.Size([4, 3, 3, 64, 64]) ['03253', '00348', '00244', '02229'] \n",
      " 3\n",
      " 0\n",
      " 0\n",
      " 2\n",
      "[torch.DoubleTensor of size 4]\n",
      "\n",
      "8 torch.Size([4, 3, 3, 64, 64]) ['06505', '00034', '06407', '03791'] \n",
      " 8\n",
      " 0\n",
      " 7\n",
      " 4\n",
      "[torch.DoubleTensor of size 4]\n",
      "\n",
      "9 torch.Size([4, 3, 3, 64, 64]) ['05760', '02021', '05040', '00768'] \n",
      " 7\n",
      " 2\n",
      " 6\n",
      " 0\n",
      "[torch.DoubleTensor of size 4]\n",
      "\n",
      "10 torch.Size([4, 3, 3, 64, 64]) ['03175', '01703', '00360', '00941'] \n",
      " 3\n",
      " 1\n",
      " 0\n",
      " 1\n",
      "[torch.DoubleTensor of size 4]\n",
      "\n",
      "11 torch.Size([4, 3, 3, 64, 64]) ['04267', '03369', '05502', '01622'] \n",
      " 5\n",
      " 3\n",
      " 6\n",
      " 1\n",
      "[torch.DoubleTensor of size 4]\n",
      "\n",
      "12 torch.Size([4, 3, 3, 64, 64]) ['06101', '00597', '04288', '06486'] \n",
      " 7\n",
      " 0\n",
      " 5\n",
      " 8\n",
      "[torch.DoubleTensor of size 4]\n",
      "\n",
      "13 torch.Size([4, 3, 3, 64, 64]) ['01508', '06873', '06748', '02337'] \n",
      " 1\n",
      " 8\n",
      " 8\n",
      " 2\n",
      "[torch.DoubleTensor of size 4]\n",
      "\n",
      "14 torch.Size([4, 3, 3, 64, 64]) ['06065', '07289', '03958', '01890'] \n",
      " 7\n",
      " 9\n",
      " 4\n",
      " 2\n",
      "[torch.DoubleTensor of size 4]\n",
      "\n",
      "15 torch.Size([4, 3, 3, 64, 64]) ['05890', '06614', '05935', '04594'] \n",
      " 7\n",
      " 8\n",
      " 7\n",
      " 5\n",
      "[torch.DoubleTensor of size 4]\n",
      "\n",
      "16 torch.Size([4, 3, 3, 64, 64]) ['02782', '04877', '03659', '06181'] \n",
      " 3\n",
      " 5\n",
      " 4\n",
      " 7\n",
      "[torch.DoubleTensor of size 4]\n",
      "\n",
      "17 torch.Size([4, 3, 3, 64, 64]) ['01260', '02257', '02191', '04933'] \n",
      " 1\n",
      " 2\n",
      " 2\n",
      " 5\n",
      "[torch.DoubleTensor of size 4]\n",
      "\n",
      "18 torch.Size([4, 3, 3, 64, 64]) ['03466', '04262', '07184', '01032'] \n",
      " 3\n",
      " 5\n",
      " 9\n",
      " 1\n",
      "[torch.DoubleTensor of size 4]\n",
      "\n",
      "19 torch.Size([4, 3, 3, 64, 64]) ['02512', '05097', '03827', '03250'] \n",
      " 2\n",
      " 6\n",
      " 4\n",
      " 3\n",
      "[torch.DoubleTensor of size 4]\n",
      "\n",
      "20 torch.Size([4, 3, 3, 64, 64]) ['03751', '03022', '01419', '00578'] \n",
      " 4\n",
      " 3\n",
      " 1\n",
      " 0\n",
      "[torch.DoubleTensor of size 4]\n",
      "\n",
      "21 torch.Size([4, 3, 3, 64, 64]) ['00114', '01439', '07100', '05705'] \n",
      " 0\n",
      " 1\n",
      " 8\n",
      " 7\n",
      "[torch.DoubleTensor of size 4]\n",
      "\n"
     ]
    }
   ],
   "source": [
    "clip_dataloader = DataLoader(clip_dataset, batch_size=4,\n",
    "                        shuffle=True, num_workers=4)\n",
    "\n",
    "\n",
    "for i,sample in enumerate(clip_dataloader):\n",
    "    print(i,sample['clip'].shape,sample['folder'],sample['Label'])\n",
    "    if i>20: \n",
    "        break"
   ]
  },
  {
   "cell_type": "code",
   "execution_count": 28,
   "metadata": {},
   "outputs": [],
   "source": [
    "clip_dataset_train=ActionClipDataset(root_dir='./data/trainClips/',labels=label_train,transform=T.ToTensor())\n",
    "\n",
    "clip_dataloader_train = DataLoader(clip_dataset_train, batch_size=16,\n",
    "                        shuffle=True, num_workers=4)\n",
    "clip_dataset_val=ActionClipDataset(root_dir='./data/valClips/',labels=label_val,transform=T.ToTensor())\n",
    "\n",
    "clip_dataloader_val = DataLoader(clip_dataset_val, batch_size=16,\n",
    "                        shuffle=True, num_workers=4)\n",
    "clip_dataset_test=ActionClipDataset(root_dir='./data/testClips/',labels=[],transform=T.ToTensor())\n",
    "\n",
    "clip_dataloader_test = DataLoader(clip_dataset_test, batch_size=16,\n",
    "                        shuffle=False, num_workers=4)"
   ]
  },
  {
   "cell_type": "markdown",
   "metadata": {},
   "source": [
    "Write the Flatten for 3d covolution feature maps."
   ]
  },
  {
   "cell_type": "code",
   "execution_count": 29,
   "metadata": {},
   "outputs": [],
   "source": [
    "class Flatten3d(nn.Module):\n",
    "    def forward(self, x):\n",
    "        ###############6th To Do (5 points)###################\n",
    "        N, C, D, H, W = x.size() # read in N, C, D, H, W\n",
    "        return x.view(N, -1)  # \"flatten\" the C * H * W values into a single vector per image"
   ]
  },
  {
   "cell_type": "markdown",
   "metadata": {},
   "source": [
    "Design a network using 3D convolution on videos for video classification."
   ]
  },
  {
   "cell_type": "code",
   "execution_count": 30,
   "metadata": {},
   "outputs": [
    {
     "data": {
      "text/plain": [
       "True"
      ]
     },
     "execution_count": 30,
     "metadata": {},
     "output_type": "execute_result"
    }
   ],
   "source": [
    "fixed_model_3d = nn.Sequential( # You fill this in!\n",
    "    ###############7th To Do (16 points)#########################\n",
    "    nn.Conv3d(3, 8, kernel_size=3, stride=1, padding=2),\n",
    "    nn.BatchNorm3d(8),\n",
    "    nn.ReLU(inplace=True),\n",
    "    nn.MaxPool3d(kernel_size=2, stride=2),\n",
    "    nn.Conv3d(8, 16, kernel_size=3, stride=1, padding=2),\n",
    "    nn.BatchNorm3d(16),\n",
    "    nn.ReLU(inplace=True),\n",
    "    nn.MaxPool3d(kernel_size=2, stride=2),\n",
    "    Flatten3d(),\n",
    "    nn.ReLU(inplace=True),\n",
    "    nn.Linear(9248, 10), # affine layer\n",
    ")\n",
    "\n",
    "fixed_model_3d = fixed_model_3d.type(dtype).cuda()\n",
    "x = torch.randn(32,3, 3, 64, 64).type(dtype)\n",
    "x_var = Variable(x).type(dtype).cuda() # Construct a PyTorch Variable out of your input data\n",
    "ans = fixed_model_3d(x_var) \n",
    "np.array_equal(np.array(ans.size()), np.array([32, 10]))\n"
   ]
  },
  {
   "cell_type": "markdown",
   "metadata": {},
   "source": [
    "### Describe what you did (4 points)\n",
    "\n",
    "In the cell below you should write an explanation of what you did, any additional features that you implemented, and any visualizations or graphs that you make in the process of training and evaluating your network."
   ]
  },
  {
   "cell_type": "markdown",
   "metadata": {},
   "source": [
    "8th To Do\n",
    "Tell us here: <br/>\n",
    "I have used a two layer network with a fixed filter size of 3. The number of filters for 1st conv layer is 8 with padding 2, and then it is doubled (16) for the next conv layer, again with padding 2. After each convolutional layer, I have used BatchNorm. After RELU activations, I have used Max Pooling with a kernel size of 2 and stride 2."
   ]
  },
  {
   "cell_type": "code",
   "execution_count": 31,
   "metadata": {},
   "outputs": [],
   "source": [
    "loss_fn = nn.CrossEntropyLoss().type(dtype)\n",
    "optimizer = optim.RMSprop(fixed_model_3d.parameters(), lr=1e-4)\n"
   ]
  },
  {
   "cell_type": "code",
   "execution_count": 32,
   "metadata": {},
   "outputs": [],
   "source": [
    "def train_3d(model, loss_fn, optimizer,dataloader,num_epochs = 1):\n",
    "    for epoch in range(num_epochs):\n",
    "        print('Starting epoch %d / %d' % (epoch + 1, num_epochs))\n",
    "        model.train()\n",
    "        for t, sample in enumerate(dataloader):\n",
    "            x_var = Variable(sample['clip'].type(dtype)).cuda()\n",
    "            y_var = Variable(sample['Label'].type(dtype).long()).cuda()\n",
    "\n",
    "            scores = model(x_var)\n",
    "            \n",
    "            loss = loss_fn(scores, y_var)\n",
    "            if (t + 1) % print_every == 0:\n",
    "                print('t = %d, loss = %.4f' % (t + 1, loss.data[0]))\n",
    "\n",
    "            optimizer.zero_grad()\n",
    "            loss.backward()\n",
    "            optimizer.step()\n",
    "\n",
    "def check_accuracy_3d(model, loader):\n",
    "    '''\n",
    "    if loader.dataset.train:\n",
    "        print('Checking accuracy on validation set')\n",
    "    else:\n",
    "        print('Checking accuracy on test set')  \n",
    "    '''\n",
    "    num_correct = 0\n",
    "    num_samples = 0\n",
    "    model.eval() # Put the model in test mode (the opposite of model.train(), essentially)\n",
    "    for t, sample in enumerate(loader):\n",
    "        x_var = Variable(sample['clip'].type(dtype)).cuda()\n",
    "        y_var = sample['Label'].type(dtype).cuda()\n",
    "        scores = model(x_var)\n",
    "        y_var=y_var.cpu()\n",
    "        _, preds = scores.data.cpu().max(1)\n",
    "        #print(preds)\n",
    "        #print(y_var)\n",
    "        y_var = y_var.cpu()\n",
    "        preds = preds.cpu()\n",
    "        num_correct += (preds.numpy() == y_var.numpy()).sum()\n",
    "        num_samples += preds.size(0)\n",
    "    acc = float(num_correct) / num_samples\n",
    "    print('Got %d / %d correct (%.2f)' % (num_correct, num_samples, 100 * acc))"
   ]
  },
  {
   "cell_type": "code",
   "execution_count": 33,
   "metadata": {},
   "outputs": [
    {
     "name": "stdout",
     "output_type": "stream",
     "text": [
      "Starting epoch 1 / 10\n",
      "t = 100, loss = 1.2843\n",
      "t = 200, loss = 1.0668\n",
      "t = 300, loss = 1.0014\n",
      "t = 400, loss = 0.5186\n",
      "Starting epoch 2 / 10\n",
      "t = 100, loss = 0.6908\n",
      "t = 200, loss = 0.5488\n",
      "t = 300, loss = 0.1692\n",
      "t = 400, loss = 0.3790\n",
      "Starting epoch 3 / 10\n",
      "t = 100, loss = 0.7274\n",
      "t = 200, loss = 0.2435\n",
      "t = 300, loss = 0.1792\n",
      "t = 400, loss = 0.2836\n",
      "Starting epoch 4 / 10\n",
      "t = 100, loss = 0.3808\n",
      "t = 200, loss = 0.4830\n",
      "t = 300, loss = 0.2828\n",
      "t = 400, loss = 0.1042\n",
      "Starting epoch 5 / 10\n",
      "t = 100, loss = 0.1287\n",
      "t = 200, loss = 0.0491\n",
      "t = 300, loss = 0.0802\n",
      "t = 400, loss = 0.1436\n",
      "Starting epoch 6 / 10\n",
      "t = 100, loss = 0.0758\n",
      "t = 200, loss = 0.0392\n",
      "t = 300, loss = 0.0659\n",
      "t = 400, loss = 0.0713\n",
      "Starting epoch 7 / 10\n",
      "t = 100, loss = 0.0444\n",
      "t = 200, loss = 0.0638\n",
      "t = 300, loss = 0.0753\n",
      "t = 400, loss = 0.0290\n",
      "Starting epoch 8 / 10\n",
      "t = 100, loss = 0.0982\n",
      "t = 200, loss = 0.1066\n",
      "t = 300, loss = 0.0125\n",
      "t = 400, loss = 0.2513\n",
      "Starting epoch 9 / 10\n",
      "t = 100, loss = 0.0458\n",
      "t = 200, loss = 0.0170\n",
      "t = 300, loss = 0.1605\n",
      "t = 400, loss = 0.0498\n",
      "Starting epoch 10 / 10\n",
      "t = 100, loss = 0.1110\n",
      "t = 200, loss = 0.0440\n",
      "t = 300, loss = 0.1034\n",
      "t = 400, loss = 0.0274\n",
      "Got 1401 / 2230 correct (62.83)\n"
     ]
    }
   ],
   "source": [
    "torch.cuda.random.manual_seed(12345)\n",
    "fixed_model_3d.apply(reset) \n",
    "fixed_model_3d.train() \n",
    "train_3d(fixed_model_3d, loss_fn, optimizer,clip_dataloader_train, num_epochs=10) \n",
    "fixed_model_3d.eval() \n",
    "check_accuracy_3d(fixed_model_3d, clip_dataloader_val)"
   ]
  },
  {
   "cell_type": "markdown",
   "metadata": {},
   "source": [
    "Test your 3d convolution model on the validation set. You don't need to submit the result of this part to kaggle.  "
   ]
  },
  {
   "cell_type": "markdown",
   "metadata": {},
   "source": [
    "Test your model on the test set, predict_on_test_3d() will generate a file named 'results_3d.csv'. Please submit the csv file to kaggle https://www.kaggle.com/c/cse512springhw3video\n",
    "The highest 3 entries get extra 10 points.\n"
   ]
  },
  {
   "cell_type": "code",
   "execution_count": 34,
   "metadata": {},
   "outputs": [
    {
     "name": "stdout",
     "output_type": "stream",
     "text": [
      "3270\n"
     ]
    }
   ],
   "source": [
    "def predict_on_test_3d(model, loader):\n",
    "    '''\n",
    "    if loader.dataset.train:\n",
    "        print('Checking accuracy on validation set')\n",
    "    else:\n",
    "        print('Checking accuracy on test set')  \n",
    "    '''\n",
    "    num_correct = 0\n",
    "    num_samples = 0\n",
    "    model.eval() # Put the model in test mode (the opposite of model.train(), essentially)\n",
    "    results=open('results_3d.csv','w')\n",
    "    count=0\n",
    "    results.write('Id'+','+'Class'+'\\n')\n",
    "    for t, sample in enumerate(loader):\n",
    "        x_var = Variable(sample['clip'].type(dtype)).cuda()\n",
    "        scores = model(x_var)\n",
    "        _, preds = scores.data.max(1)\n",
    "        for i in range(len(preds)):\n",
    "            results.write(str(count)+','+str(preds[i])+'\\n')\n",
    "            count+=1\n",
    "    results.close()\n",
    "    return count\n",
    "    \n",
    "count=predict_on_test_3d(fixed_model_3d, clip_dataloader_test)\n",
    "print(count)"
   ]
  },
  {
   "cell_type": "code",
   "execution_count": null,
   "metadata": {},
   "outputs": [],
   "source": []
  }
 ],
 "metadata": {
  "kernelspec": {
   "display_name": "Python 2",
   "language": "python",
   "name": "python2"
  },
  "language_info": {
   "codemirror_mode": {
    "name": "ipython",
    "version": 3
   },
   "file_extension": ".py",
   "mimetype": "text/x-python",
   "name": "python",
   "nbconvert_exporter": "python",
   "pygments_lexer": "ipython3",
   "version": "3.5.2"
  }
 },
 "nbformat": 4,
 "nbformat_minor": 2
}
